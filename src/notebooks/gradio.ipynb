{
 "cells": [
  {
   "cell_type": "code",
   "execution_count": 1,
   "metadata": {
    "execution": {
     "iopub.execute_input": "2024-12-14T09:37:12.269596Z",
     "iopub.status.busy": "2024-12-14T09:37:12.269006Z",
     "iopub.status.idle": "2024-12-14T09:37:26.184008Z",
     "shell.execute_reply": "2024-12-14T09:37:26.182531Z",
     "shell.execute_reply.started": "2024-12-14T09:37:12.269541Z"
    }
   },
   "outputs": [],
   "source": [
    "import os\n",
    "import time\n",
    "\n",
    "import gradio as gr\n",
    "from dotenv import load_dotenv\n",
    "from agno.agent import Agent\n",
    "from agno.models.message import Message\n",
    "from agno.models.openai import OpenAIChat"
   ]
  },
  {
   "cell_type": "code",
   "execution_count": 3,
   "metadata": {},
   "outputs": [
    {
     "name": "stdout",
     "output_type": "stream",
     "text": [
      "* Running on local URL:  http://127.0.0.1:7860\n",
      "\n",
      "To create a public link, set `share=True` in `launch()`.\n"
     ]
    },
    {
     "data": {
      "text/html": [
       "<div><iframe src=\"http://127.0.0.1:7860/\" width=\"100%\" height=\"500\" allow=\"autoplay; camera; microphone; clipboard-read; clipboard-write;\" frameborder=\"0\" allowfullscreen></iframe></div>"
      ],
      "text/plain": [
       "<IPython.core.display.HTML object>"
      ]
     },
     "metadata": {},
     "output_type": "display_data"
    },
    {
     "data": {
      "text/plain": []
     },
     "execution_count": 3,
     "metadata": {},
     "output_type": "execute_result"
    }
   ],
   "source": [
    "def echo(message, history, system_prompt, tokens):\n",
    "    response = f\"System prompt: {system_prompt}\\n Message: {message}.\"\n",
    "    for i in range(min(len(response), int(tokens))):\n",
    "        time.sleep(0.05)\n",
    "        yield response[: i + 1]\n",
    "\n",
    "\n",
    "with gr.Blocks() as demo:\n",
    "    system_prompt = gr.Textbox(\"You are helpful AI.\", label=\"System Prompt\")\n",
    "    slider = gr.Slider(10, 100, render=False)\n",
    "\n",
    "    gr.ChatInterface(echo, additional_inputs=[system_prompt, slider], type=\"messages\")\n",
    "\n",
    "demo.launch()"
   ]
  },
  {
   "cell_type": "code",
   "execution_count": 3,
   "metadata": {
    "execution": {
     "iopub.execute_input": "2024-12-14T09:37:26.187163Z",
     "iopub.status.busy": "2024-12-14T09:37:26.186158Z",
     "iopub.status.idle": "2024-12-14T09:37:26.208336Z",
     "shell.execute_reply": "2024-12-14T09:37:26.207038Z",
     "shell.execute_reply.started": "2024-12-14T09:37:26.187094Z"
    }
   },
   "outputs": [],
   "source": [
    "_ = load_dotenv()"
   ]
  },
  {
   "cell_type": "code",
   "execution_count": 4,
   "metadata": {
    "execution": {
     "iopub.execute_input": "2024-12-14T09:37:26.210031Z",
     "iopub.status.busy": "2024-12-14T09:37:26.209529Z",
     "iopub.status.idle": "2024-12-14T09:37:26.315841Z",
     "shell.execute_reply": "2024-12-14T09:37:26.314823Z",
     "shell.execute_reply.started": "2024-12-14T09:37:26.209996Z"
    }
   },
   "outputs": [],
   "source": [
    "openai_model = OpenAIChat(\n",
    "    id=\"gpt-4o-mini\", temperature=0.1, api_key=os.getenv(\"OPENAI_API_KEY\")\n",
    ")"
   ]
  },
  {
   "cell_type": "code",
   "execution_count": null,
   "metadata": {},
   "outputs": [],
   "source": []
  },
  {
   "cell_type": "code",
   "execution_count": 5,
   "metadata": {
    "execution": {
     "iopub.execute_input": "2024-12-14T09:37:26.319042Z",
     "iopub.status.busy": "2024-12-14T09:37:26.318355Z",
     "iopub.status.idle": "2024-12-14T09:37:26.430016Z",
     "shell.execute_reply": "2024-12-14T09:37:26.427971Z",
     "shell.execute_reply.started": "2024-12-14T09:37:26.318981Z"
    }
   },
   "outputs": [],
   "source": [
    "agent = Agent(\n",
    "    name=\"Assistant\",\n",
    "    model=openai_model,\n",
    "    # debug_mode=True,\n",
    ")"
   ]
  },
  {
   "cell_type": "code",
   "execution_count": 6,
   "metadata": {
    "execution": {
     "iopub.execute_input": "2024-12-14T09:37:26.433476Z",
     "iopub.status.busy": "2024-12-14T09:37:26.432517Z",
     "iopub.status.idle": "2024-12-14T09:37:29.286400Z",
     "shell.execute_reply": "2024-12-14T09:37:29.283272Z",
     "shell.execute_reply.started": "2024-12-14T09:37:26.433360Z"
    }
   },
   "outputs": [],
   "source": [
    "response = agent.run(\"hey\")"
   ]
  },
  {
   "cell_type": "code",
   "execution_count": 7,
   "metadata": {
    "execution": {
     "iopub.execute_input": "2024-12-14T09:37:29.291744Z",
     "iopub.status.busy": "2024-12-14T09:37:29.290440Z",
     "iopub.status.idle": "2024-12-14T09:37:29.323968Z",
     "shell.execute_reply": "2024-12-14T09:37:29.320273Z",
     "shell.execute_reply.started": "2024-12-14T09:37:29.291624Z"
    }
   },
   "outputs": [
    {
     "data": {
      "text/plain": [
       "[Message(role='user', content='hey', name=None, tool_call_id=None, tool_calls=None, audio=None, images=None, videos=None, audio_output=None, reasoning_content=None, tool_name=None, tool_args=None, tool_call_error=None, stop_after_tool_call=False, add_to_agent_memory=True, from_history=False, metrics=MessageMetrics(input_tokens=0, output_tokens=0, total_tokens=0, prompt_tokens=0, completion_tokens=0, prompt_tokens_details=None, completion_tokens_details=None, additional_metrics=None, time=None, time_to_first_token=None, timer=None), references=None, created_at=1739948071),\n",
       " Message(role='assistant', content='Hello! How can I assist you today?', name=None, tool_call_id=None, tool_calls=None, audio=None, images=None, videos=None, audio_output=None, reasoning_content=None, tool_name=None, tool_args=None, tool_call_error=None, stop_after_tool_call=False, add_to_agent_memory=True, from_history=False, metrics=MessageMetrics(input_tokens=8, output_tokens=10, total_tokens=18, prompt_tokens=8, completion_tokens=10, prompt_tokens_details={'audio_tokens': 0, 'cached_tokens': 0}, completion_tokens_details={'accepted_prediction_tokens': 0, 'audio_tokens': 0, 'reasoning_tokens': 0, 'rejected_prediction_tokens': 0}, additional_metrics={}, time=0.7731521249515936, time_to_first_token=None, timer=<agno.utils.timer.Timer object at 0x128b05be0>), references=None, created_at=1739948071)]"
      ]
     },
     "execution_count": 7,
     "metadata": {},
     "output_type": "execute_result"
    }
   ],
   "source": [
    "response.messages"
   ]
  },
  {
   "cell_type": "code",
   "execution_count": null,
   "metadata": {},
   "outputs": [],
   "source": []
  },
  {
   "cell_type": "code",
   "execution_count": 8,
   "metadata": {
    "execution": {
     "iopub.execute_input": "2024-12-14T10:53:13.524243Z",
     "iopub.status.busy": "2024-12-14T10:53:13.523459Z",
     "iopub.status.idle": "2024-12-14T10:53:14.538433Z",
     "shell.execute_reply": "2024-12-14T10:53:14.537160Z",
     "shell.execute_reply.started": "2024-12-14T10:53:13.524175Z"
    }
   },
   "outputs": [
    {
     "name": "stdout",
     "output_type": "stream",
     "text": [
      "* Running on local URL:  http://127.0.0.1:7861\n",
      "\n",
      "To create a public link, set `share=True` in `launch()`.\n"
     ]
    },
    {
     "data": {
      "text/html": [
       "<div><iframe src=\"http://127.0.0.1:7861/\" width=\"100%\" height=\"500\" allow=\"autoplay; camera; microphone; clipboard-read; clipboard-write;\" frameborder=\"0\" allowfullscreen></iframe></div>"
      ],
      "text/plain": [
       "<IPython.core.display.HTML object>"
      ]
     },
     "metadata": {},
     "output_type": "display_data"
    },
    {
     "data": {
      "text/plain": []
     },
     "execution_count": 8,
     "metadata": {},
     "output_type": "execute_result"
    }
   ],
   "source": [
    "def predict(message, history):\n",
    "    history_format = []\n",
    "    for msg in history:\n",
    "        if msg[\"role\"] == \"user\":\n",
    "            history_format.append(Message(role=\"user\", content=msg[\"content\"]))\n",
    "        elif msg[\"role\"] == \"assistant\":\n",
    "            history_format.append(Message(role=\"assistant\", content=msg[\"content\"]))\n",
    "    history_format.append(Message(role=\"user\", content=message))\n",
    "    gpt_response = agent.run(messages=history_format)\n",
    "    # return gpt_response.content\n",
    "    for i in range(len(gpt_response.content)):\n",
    "        time.sleep(0.01)\n",
    "        yield gpt_response.content[: i + 1]\n",
    "\n",
    "TITLE = \"\"\"\n",
    "An Agent with versatile capabilities...\n",
    "\"\"\"\n",
    "DESCRIPTION = \"\"\"\n",
    "This is application allows you to **search for top news, search for tech specific news\n",
    "from hackernews, teach you C, C++, Rust, and Python, research a particular equity and\n",
    "give you a guidance to a personal finance, search for a Wikipedia article.**\n",
    "If you aren't still satisfied with these capabilities,\n",
    "then you can use the **ASK ME ANYTHING(AMA)** feature.\n",
    "\n",
    "Note: After the first input, there will be a `trash icon` on the top right hand corner of the chatbox,\n",
    "to clear the entire chat, and below each agent response there's an `Undo` and \n",
    "`Retry` icon.\n",
    "\"\"\"\n",
    "\n",
    "\n",
    "gr.ChatInterface(predict, title=TITLE, description=DESCRIPTION,type=\"messages\",\n",
    "                 textbox=gr.Textbox(placeholder=\"Type in a message and press enter...\",\n",
    "                                   submit_btn=True, stop_btn=True, label=\"textbox\")\n",
    "                ).launch()"
   ]
  },
  {
   "cell_type": "markdown",
   "metadata": {},
   "source": [
    "https://www.gradio.app/guides/creating-a-custom-chatbot-with-blocks"
   ]
  },
  {
   "cell_type": "code",
   "execution_count": 13,
   "metadata": {
    "execution": {
     "iopub.execute_input": "2024-12-14T10:11:02.614176Z",
     "iopub.status.busy": "2024-12-14T10:11:02.607488Z",
     "iopub.status.idle": "2024-12-14T10:11:02.641814Z",
     "shell.execute_reply": "2024-12-14T10:11:02.639147Z",
     "shell.execute_reply.started": "2024-12-14T10:11:02.614104Z"
    },
    "scrolled": true
   },
   "outputs": [
    {
     "data": {
      "text/plain": [
       "\u001b[0;31mInit signature:\u001b[0m\n",
       "\u001b[0mgr\u001b[0m\u001b[0;34m.\u001b[0m\u001b[0mTextbox\u001b[0m\u001b[0;34m(\u001b[0m\u001b[0;34m\u001b[0m\n",
       "\u001b[0;34m\u001b[0m    \u001b[0mvalue\u001b[0m\u001b[0;34m:\u001b[0m \u001b[0;34m'str | Callable | None'\u001b[0m \u001b[0;34m=\u001b[0m \u001b[0;32mNone\u001b[0m\u001b[0;34m,\u001b[0m\u001b[0;34m\u001b[0m\n",
       "\u001b[0;34m\u001b[0m    \u001b[0;34m*\u001b[0m\u001b[0;34m,\u001b[0m\u001b[0;34m\u001b[0m\n",
       "\u001b[0;34m\u001b[0m    \u001b[0mlines\u001b[0m\u001b[0;34m:\u001b[0m \u001b[0;34m'int'\u001b[0m \u001b[0;34m=\u001b[0m \u001b[0;36m1\u001b[0m\u001b[0;34m,\u001b[0m\u001b[0;34m\u001b[0m\n",
       "\u001b[0;34m\u001b[0m    \u001b[0mmax_lines\u001b[0m\u001b[0;34m:\u001b[0m \u001b[0;34m'int'\u001b[0m \u001b[0;34m=\u001b[0m \u001b[0;36m20\u001b[0m\u001b[0;34m,\u001b[0m\u001b[0;34m\u001b[0m\n",
       "\u001b[0;34m\u001b[0m    \u001b[0mplaceholder\u001b[0m\u001b[0;34m:\u001b[0m \u001b[0;34m'str | None'\u001b[0m \u001b[0;34m=\u001b[0m \u001b[0;32mNone\u001b[0m\u001b[0;34m,\u001b[0m\u001b[0;34m\u001b[0m\n",
       "\u001b[0;34m\u001b[0m    \u001b[0mlabel\u001b[0m\u001b[0;34m:\u001b[0m \u001b[0;34m'str | None'\u001b[0m \u001b[0;34m=\u001b[0m \u001b[0;32mNone\u001b[0m\u001b[0;34m,\u001b[0m\u001b[0;34m\u001b[0m\n",
       "\u001b[0;34m\u001b[0m    \u001b[0minfo\u001b[0m\u001b[0;34m:\u001b[0m \u001b[0;34m'str | None'\u001b[0m \u001b[0;34m=\u001b[0m \u001b[0;32mNone\u001b[0m\u001b[0;34m,\u001b[0m\u001b[0;34m\u001b[0m\n",
       "\u001b[0;34m\u001b[0m    \u001b[0mevery\u001b[0m\u001b[0;34m:\u001b[0m \u001b[0;34m'Timer | float | None'\u001b[0m \u001b[0;34m=\u001b[0m \u001b[0;32mNone\u001b[0m\u001b[0;34m,\u001b[0m\u001b[0;34m\u001b[0m\n",
       "\u001b[0;34m\u001b[0m    \u001b[0minputs\u001b[0m\u001b[0;34m:\u001b[0m \u001b[0;34m'Component | Sequence[Component] | set[Component] | None'\u001b[0m \u001b[0;34m=\u001b[0m \u001b[0;32mNone\u001b[0m\u001b[0;34m,\u001b[0m\u001b[0;34m\u001b[0m\n",
       "\u001b[0;34m\u001b[0m    \u001b[0mshow_label\u001b[0m\u001b[0;34m:\u001b[0m \u001b[0;34m'bool | None'\u001b[0m \u001b[0;34m=\u001b[0m \u001b[0;32mNone\u001b[0m\u001b[0;34m,\u001b[0m\u001b[0;34m\u001b[0m\n",
       "\u001b[0;34m\u001b[0m    \u001b[0mcontainer\u001b[0m\u001b[0;34m:\u001b[0m \u001b[0;34m'bool'\u001b[0m \u001b[0;34m=\u001b[0m \u001b[0;32mTrue\u001b[0m\u001b[0;34m,\u001b[0m\u001b[0;34m\u001b[0m\n",
       "\u001b[0;34m\u001b[0m    \u001b[0mscale\u001b[0m\u001b[0;34m:\u001b[0m \u001b[0;34m'int | None'\u001b[0m \u001b[0;34m=\u001b[0m \u001b[0;32mNone\u001b[0m\u001b[0;34m,\u001b[0m\u001b[0;34m\u001b[0m\n",
       "\u001b[0;34m\u001b[0m    \u001b[0mmin_width\u001b[0m\u001b[0;34m:\u001b[0m \u001b[0;34m'int'\u001b[0m \u001b[0;34m=\u001b[0m \u001b[0;36m160\u001b[0m\u001b[0;34m,\u001b[0m\u001b[0;34m\u001b[0m\n",
       "\u001b[0;34m\u001b[0m    \u001b[0minteractive\u001b[0m\u001b[0;34m:\u001b[0m \u001b[0;34m'bool | None'\u001b[0m \u001b[0;34m=\u001b[0m \u001b[0;32mNone\u001b[0m\u001b[0;34m,\u001b[0m\u001b[0;34m\u001b[0m\n",
       "\u001b[0;34m\u001b[0m    \u001b[0mvisible\u001b[0m\u001b[0;34m:\u001b[0m \u001b[0;34m'bool'\u001b[0m \u001b[0;34m=\u001b[0m \u001b[0;32mTrue\u001b[0m\u001b[0;34m,\u001b[0m\u001b[0;34m\u001b[0m\n",
       "\u001b[0;34m\u001b[0m    \u001b[0melem_id\u001b[0m\u001b[0;34m:\u001b[0m \u001b[0;34m'str | None'\u001b[0m \u001b[0;34m=\u001b[0m \u001b[0;32mNone\u001b[0m\u001b[0;34m,\u001b[0m\u001b[0;34m\u001b[0m\n",
       "\u001b[0;34m\u001b[0m    \u001b[0mautofocus\u001b[0m\u001b[0;34m:\u001b[0m \u001b[0;34m'bool'\u001b[0m \u001b[0;34m=\u001b[0m \u001b[0;32mFalse\u001b[0m\u001b[0;34m,\u001b[0m\u001b[0;34m\u001b[0m\n",
       "\u001b[0;34m\u001b[0m    \u001b[0mautoscroll\u001b[0m\u001b[0;34m:\u001b[0m \u001b[0;34m'bool'\u001b[0m \u001b[0;34m=\u001b[0m \u001b[0;32mTrue\u001b[0m\u001b[0;34m,\u001b[0m\u001b[0;34m\u001b[0m\n",
       "\u001b[0;34m\u001b[0m    \u001b[0melem_classes\u001b[0m\u001b[0;34m:\u001b[0m \u001b[0;34m'list[str] | str | None'\u001b[0m \u001b[0;34m=\u001b[0m \u001b[0;32mNone\u001b[0m\u001b[0;34m,\u001b[0m\u001b[0;34m\u001b[0m\n",
       "\u001b[0;34m\u001b[0m    \u001b[0mrender\u001b[0m\u001b[0;34m:\u001b[0m \u001b[0;34m'bool'\u001b[0m \u001b[0;34m=\u001b[0m \u001b[0;32mTrue\u001b[0m\u001b[0;34m,\u001b[0m\u001b[0;34m\u001b[0m\n",
       "\u001b[0;34m\u001b[0m    \u001b[0mkey\u001b[0m\u001b[0;34m:\u001b[0m \u001b[0;34m'int | str | None'\u001b[0m \u001b[0;34m=\u001b[0m \u001b[0;32mNone\u001b[0m\u001b[0;34m,\u001b[0m\u001b[0;34m\u001b[0m\n",
       "\u001b[0;34m\u001b[0m    \u001b[0mtype\u001b[0m\u001b[0;34m:\u001b[0m \u001b[0;34m\"Literal['text', 'password', 'email']\"\u001b[0m \u001b[0;34m=\u001b[0m \u001b[0;34m'text'\u001b[0m\u001b[0;34m,\u001b[0m\u001b[0;34m\u001b[0m\n",
       "\u001b[0;34m\u001b[0m    \u001b[0mtext_align\u001b[0m\u001b[0;34m:\u001b[0m \u001b[0;34m\"Literal['left', 'right'] | None\"\u001b[0m \u001b[0;34m=\u001b[0m \u001b[0;32mNone\u001b[0m\u001b[0;34m,\u001b[0m\u001b[0;34m\u001b[0m\n",
       "\u001b[0;34m\u001b[0m    \u001b[0mrtl\u001b[0m\u001b[0;34m:\u001b[0m \u001b[0;34m'bool'\u001b[0m \u001b[0;34m=\u001b[0m \u001b[0;32mFalse\u001b[0m\u001b[0;34m,\u001b[0m\u001b[0;34m\u001b[0m\n",
       "\u001b[0;34m\u001b[0m    \u001b[0mshow_copy_button\u001b[0m\u001b[0;34m:\u001b[0m \u001b[0;34m'bool'\u001b[0m \u001b[0;34m=\u001b[0m \u001b[0;32mFalse\u001b[0m\u001b[0;34m,\u001b[0m\u001b[0;34m\u001b[0m\n",
       "\u001b[0;34m\u001b[0m    \u001b[0mmax_length\u001b[0m\u001b[0;34m:\u001b[0m \u001b[0;34m'int | None'\u001b[0m \u001b[0;34m=\u001b[0m \u001b[0;32mNone\u001b[0m\u001b[0;34m,\u001b[0m\u001b[0;34m\u001b[0m\n",
       "\u001b[0;34m\u001b[0m    \u001b[0msubmit_btn\u001b[0m\u001b[0;34m:\u001b[0m \u001b[0;34m'str | bool | None'\u001b[0m \u001b[0;34m=\u001b[0m \u001b[0;32mFalse\u001b[0m\u001b[0;34m,\u001b[0m\u001b[0;34m\u001b[0m\n",
       "\u001b[0;34m\u001b[0m    \u001b[0mstop_btn\u001b[0m\u001b[0;34m:\u001b[0m \u001b[0;34m'str | bool | None'\u001b[0m \u001b[0;34m=\u001b[0m \u001b[0;32mFalse\u001b[0m\u001b[0;34m,\u001b[0m\u001b[0;34m\u001b[0m\n",
       "\u001b[0;34m\u001b[0m\u001b[0;34m)\u001b[0m\u001b[0;34m\u001b[0m\u001b[0;34m\u001b[0m\u001b[0m\n",
       "\u001b[0;31mDocstring:\u001b[0m     \n",
       "Creates a textarea for user to enter string input or display string output.\n",
       "\n",
       "Demos: hello_world, diff_texts, sentence_builder\n",
       "Guides: creating-a-chatbot, real-time-speech-recognition\n",
       "\u001b[0;31mInit docstring:\u001b[0m\n",
       "Parameters:\n",
       "    value: default text to provide in textarea. If callable, the function will be called whenever the app loads to set the initial value of the component.\n",
       "    lines: minimum number of line rows to provide in textarea.\n",
       "    max_lines: maximum number of line rows to provide in textarea.\n",
       "    placeholder: placeholder hint to provide behind textarea.\n",
       "    label: the label for this component, displayed above the component if `show_label` is `True` and is also used as the header if there are a table of examples for this component. If None and used in a `gr.Interface`, the label will be the name of the parameter this component corresponds to.\n",
       "    info: additional component description, appears below the label in smaller font. Supports markdown / HTML syntax.\n",
       "    every: Continously calls `value` to recalculate it if `value` is a function (has no effect otherwise). Can provide a Timer whose tick resets `value`, or a float that provides the regular interval for the reset Timer.\n",
       "    inputs: Components that are used as inputs to calculate `value` if `value` is a function (has no effect otherwise). `value` is recalculated any time the inputs change.\n",
       "    show_label: if True, will display label. If False, the copy button is hidden as well as well as the label.\n",
       "    container: If True, will place the component in a container - providing some extra padding around the border.\n",
       "    scale: relative size compared to adjacent Components. For example if Components A and B are in a Row, and A has scale=2, and B has scale=1, A will be twice as wide as B. Should be an integer. scale applies in Rows, and to top-level Components in Blocks where fill_height=True.\n",
       "    min_width: minimum pixel width, will wrap if not sufficient screen space to satisfy this value. If a certain scale value results in this Component being narrower than min_width, the min_width parameter will be respected first.\n",
       "    interactive: if True, will be rendered as an editable textbox; if False, editing will be disabled. If not provided, this is inferred based on whether the component is used as an input or output.\n",
       "    visible: If False, component will be hidden.\n",
       "    autofocus: If True, will focus on the textbox when the page loads. Use this carefully, as it can cause usability issues for sighted and non-sighted users.\n",
       "    elem_id: An optional string that is assigned as the id of this component in the HTML DOM. Can be used for targeting CSS styles.\n",
       "    elem_classes: An optional list of strings that are assigned as the classes of this component in the HTML DOM. Can be used for targeting CSS styles.\n",
       "    render: If False, component will not render be rendered in the Blocks context. Should be used if the intention is to assign event listeners now but render the component later.\n",
       "    key: if assigned, will be used to assume identity across a re-render. Components that have the same key across a re-render will have their value preserved.\n",
       "    type: The type of textbox. One of: 'text', 'password', 'email', Default is 'text'.\n",
       "    text_align: How to align the text in the textbox, can be: \"left\", \"right\", or None (default). If None, the alignment is left if `rtl` is False, or right if `rtl` is True. Can only be changed if `type` is \"text\".\n",
       "    rtl: If True and `type` is \"text\", sets the direction of the text to right-to-left (cursor appears on the left of the text). Default is False, which renders cursor on the right.\n",
       "    show_copy_button: If True, includes a copy button to copy the text in the textbox. Only applies if show_label is True.\n",
       "    autoscroll: If True, will automatically scroll to the bottom of the textbox when the value changes, unless the user scrolls up. If False, will not scroll to the bottom of the textbox when the value changes.\n",
       "    max_length: maximum number of characters (including newlines) allowed in the textbox. If None, there is no maximum length.\n",
       "    submit_btn: If False, will not show a submit button. If True, will show a submit button with an icon. If a string, will use that string as the submit button text. When the submit button is shown, the border of the textbox will be removed, which is useful for creating a chat interface.\n",
       "\u001b[0;31mFile:\u001b[0m           ~/repos/berkley_hack/.venv/lib/python3.12/site-packages/gradio/components/textbox.py\n",
       "\u001b[0;31mType:\u001b[0m           ComponentMeta\n",
       "\u001b[0;31mSubclasses:\u001b[0m     TextArea"
      ]
     },
     "metadata": {},
     "output_type": "display_data"
    }
   ],
   "source": []
  },
  {
   "cell_type": "code",
   "execution_count": null,
   "metadata": {},
   "outputs": [],
   "source": []
  }
 ],
 "metadata": {
  "kernelspec": {
   "display_name": ".venv",
   "language": "python",
   "name": "python3"
  },
  "language_info": {
   "codemirror_mode": {
    "name": "ipython",
    "version": 3
   },
   "file_extension": ".py",
   "mimetype": "text/x-python",
   "name": "python",
   "nbconvert_exporter": "python",
   "pygments_lexer": "ipython3",
   "version": "3.12.8"
  }
 },
 "nbformat": 4,
 "nbformat_minor": 4
}
